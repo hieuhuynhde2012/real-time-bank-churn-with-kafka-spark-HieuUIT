{
 "cells": [
  {
   "cell_type": "markdown",
   "metadata": {},
   "source": [
    "# Read dataset"
   ]
  },
  {
   "cell_type": "code",
   "execution_count": 2,
   "metadata": {},
   "outputs": [],
   "source": [
    "import pandas as pd"
   ]
  },
  {
   "cell_type": "code",
   "execution_count": 3,
   "metadata": {},
   "outputs": [
    {
     "data": {
      "text/html": [
       "<div>\n",
       "<style scoped>\n",
       "    .dataframe tbody tr th:only-of-type {\n",
       "        vertical-align: middle;\n",
       "    }\n",
       "\n",
       "    .dataframe tbody tr th {\n",
       "        vertical-align: top;\n",
       "    }\n",
       "\n",
       "    .dataframe thead th {\n",
       "        text-align: right;\n",
       "    }\n",
       "</style>\n",
       "<table border=\"1\" class=\"dataframe\">\n",
       "  <thead>\n",
       "    <tr style=\"text-align: right;\">\n",
       "      <th></th>\n",
       "      <th>CreditScore</th>\n",
       "      <th>Age</th>\n",
       "      <th>Tenure</th>\n",
       "      <th>Balance</th>\n",
       "      <th>NumOfProducts</th>\n",
       "      <th>HasCrCard</th>\n",
       "      <th>IsActiveMember</th>\n",
       "      <th>EstimatedSalary</th>\n",
       "      <th>Exited</th>\n",
       "      <th>BalanceSalary</th>\n",
       "      <th>...</th>\n",
       "      <th>age_balance</th>\n",
       "      <th>balance_salary</th>\n",
       "      <th>age_hascrcard</th>\n",
       "      <th>product_utilization_rate_by_year</th>\n",
       "      <th>product_utilization_rate_by_salary</th>\n",
       "      <th>countries_monthly_average_salaries</th>\n",
       "      <th>Germany</th>\n",
       "      <th>Spain</th>\n",
       "      <th>Female</th>\n",
       "      <th>Male</th>\n",
       "    </tr>\n",
       "  </thead>\n",
       "  <tbody>\n",
       "    <tr>\n",
       "      <th>0</th>\n",
       "      <td>619</td>\n",
       "      <td>42</td>\n",
       "      <td>2</td>\n",
       "      <td>0.00</td>\n",
       "      <td>1</td>\n",
       "      <td>1</td>\n",
       "      <td>1</td>\n",
       "      <td>101348.88</td>\n",
       "      <td>1</td>\n",
       "      <td>0.000000</td>\n",
       "      <td>...</td>\n",
       "      <td>0.000000</td>\n",
       "      <td>0.000000</td>\n",
       "      <td>0.023810</td>\n",
       "      <td>0.500</td>\n",
       "      <td>0.000010</td>\n",
       "      <td>2.285103</td>\n",
       "      <td>False</td>\n",
       "      <td>False</td>\n",
       "      <td>True</td>\n",
       "      <td>False</td>\n",
       "    </tr>\n",
       "    <tr>\n",
       "      <th>1</th>\n",
       "      <td>608</td>\n",
       "      <td>41</td>\n",
       "      <td>1</td>\n",
       "      <td>83807.86</td>\n",
       "      <td>1</td>\n",
       "      <td>0</td>\n",
       "      <td>1</td>\n",
       "      <td>112542.58</td>\n",
       "      <td>0</td>\n",
       "      <td>0.744677</td>\n",
       "      <td>...</td>\n",
       "      <td>2044.094146</td>\n",
       "      <td>0.744677</td>\n",
       "      <td>0.000000</td>\n",
       "      <td>1.000</td>\n",
       "      <td>0.000009</td>\n",
       "      <td>4.155316</td>\n",
       "      <td>False</td>\n",
       "      <td>True</td>\n",
       "      <td>True</td>\n",
       "      <td>False</td>\n",
       "    </tr>\n",
       "    <tr>\n",
       "      <th>2</th>\n",
       "      <td>502</td>\n",
       "      <td>42</td>\n",
       "      <td>8</td>\n",
       "      <td>159660.80</td>\n",
       "      <td>3</td>\n",
       "      <td>1</td>\n",
       "      <td>0</td>\n",
       "      <td>113931.57</td>\n",
       "      <td>1</td>\n",
       "      <td>1.401375</td>\n",
       "      <td>...</td>\n",
       "      <td>3801.447619</td>\n",
       "      <td>1.401375</td>\n",
       "      <td>0.023810</td>\n",
       "      <td>0.375</td>\n",
       "      <td>0.000026</td>\n",
       "      <td>2.568803</td>\n",
       "      <td>False</td>\n",
       "      <td>False</td>\n",
       "      <td>True</td>\n",
       "      <td>False</td>\n",
       "    </tr>\n",
       "    <tr>\n",
       "      <th>3</th>\n",
       "      <td>699</td>\n",
       "      <td>39</td>\n",
       "      <td>1</td>\n",
       "      <td>0.00</td>\n",
       "      <td>2</td>\n",
       "      <td>0</td>\n",
       "      <td>0</td>\n",
       "      <td>93826.63</td>\n",
       "      <td>0</td>\n",
       "      <td>0.000000</td>\n",
       "      <td>...</td>\n",
       "      <td>0.000000</td>\n",
       "      <td>0.000000</td>\n",
       "      <td>0.000000</td>\n",
       "      <td>2.000</td>\n",
       "      <td>0.000021</td>\n",
       "      <td>2.115499</td>\n",
       "      <td>False</td>\n",
       "      <td>False</td>\n",
       "      <td>True</td>\n",
       "      <td>False</td>\n",
       "    </tr>\n",
       "    <tr>\n",
       "      <th>4</th>\n",
       "      <td>850</td>\n",
       "      <td>43</td>\n",
       "      <td>2</td>\n",
       "      <td>125510.82</td>\n",
       "      <td>1</td>\n",
       "      <td>1</td>\n",
       "      <td>1</td>\n",
       "      <td>79084.10</td>\n",
       "      <td>0</td>\n",
       "      <td>1.587055</td>\n",
       "      <td>...</td>\n",
       "      <td>2918.856279</td>\n",
       "      <td>1.587055</td>\n",
       "      <td>0.023256</td>\n",
       "      <td>0.500</td>\n",
       "      <td>0.000013</td>\n",
       "      <td>2.919956</td>\n",
       "      <td>False</td>\n",
       "      <td>True</td>\n",
       "      <td>True</td>\n",
       "      <td>False</td>\n",
       "    </tr>\n",
       "  </tbody>\n",
       "</table>\n",
       "<p>5 rows × 33 columns</p>\n",
       "</div>"
      ],
      "text/plain": [
       "   CreditScore  Age  Tenure    Balance  NumOfProducts  HasCrCard  \\\n",
       "0          619   42       2       0.00              1          1   \n",
       "1          608   41       1   83807.86              1          0   \n",
       "2          502   42       8  159660.80              3          1   \n",
       "3          699   39       1       0.00              2          0   \n",
       "4          850   43       2  125510.82              1          1   \n",
       "\n",
       "   IsActiveMember  EstimatedSalary  Exited  BalanceSalary  ...  age_balance  \\\n",
       "0               1        101348.88       1       0.000000  ...     0.000000   \n",
       "1               1        112542.58       0       0.744677  ...  2044.094146   \n",
       "2               0        113931.57       1       1.401375  ...  3801.447619   \n",
       "3               0         93826.63       0       0.000000  ...     0.000000   \n",
       "4               1         79084.10       0       1.587055  ...  2918.856279   \n",
       "\n",
       "   balance_salary  age_hascrcard  product_utilization_rate_by_year  \\\n",
       "0        0.000000       0.023810                             0.500   \n",
       "1        0.744677       0.000000                             1.000   \n",
       "2        1.401375       0.023810                             0.375   \n",
       "3        0.000000       0.000000                             2.000   \n",
       "4        1.587055       0.023256                             0.500   \n",
       "\n",
       "   product_utilization_rate_by_salary  countries_monthly_average_salaries  \\\n",
       "0                            0.000010                            2.285103   \n",
       "1                            0.000009                            4.155316   \n",
       "2                            0.000026                            2.568803   \n",
       "3                            0.000021                            2.115499   \n",
       "4                            0.000013                            2.919956   \n",
       "\n",
       "   Germany  Spain  Female   Male  \n",
       "0    False  False    True  False  \n",
       "1    False   True    True  False  \n",
       "2    False  False    True  False  \n",
       "3    False  False    True  False  \n",
       "4    False   True    True  False  \n",
       "\n",
       "[5 rows x 33 columns]"
      ]
     },
     "execution_count": 3,
     "metadata": {},
     "output_type": "execute_result"
    }
   ],
   "source": [
    "customer_data = pd.read_csv('D:/DATA/Desktop/bigData/final_project/work/data/Churn_Modelling_FE.csv')\n",
    "\n",
    "# Droping the ineffective columns\n",
    "dataset = customer_data.drop(['RowNumber', 'CustomerId', 'Surname'], axis = 1)\n",
    "df_fe = dataset\n",
    "df_fe.head()"
   ]
  },
  {
   "cell_type": "markdown",
   "metadata": {},
   "source": [
    "# Separate features and label and scaling data"
   ]
  },
  {
   "cell_type": "code",
   "execution_count": 4,
   "metadata": {},
   "outputs": [],
   "source": [
    "from sklearn.preprocessing import StandardScaler\n",
    "\n",
    "# Data inputs\n",
    "X = df_fe.drop(['Exited'], axis = 1)\n",
    "m = X\n",
    "\n",
    "# Feature Scaling\n",
    "sc = StandardScaler()\n",
    "X = sc.fit_transform(X)\n",
    "X = pd.DataFrame(X)\n",
    "X.columns = m.columns\n",
    "\n",
    "# Data outputs\n",
    "Y = df_fe['Exited']"
   ]
  },
  {
   "cell_type": "markdown",
   "metadata": {},
   "source": [
    "# Devide train and test and scaling dataset"
   ]
  },
  {
   "cell_type": "code",
   "execution_count": 5,
   "metadata": {},
   "outputs": [
    {
     "name": "stdout",
     "output_type": "stream",
     "text": [
      "(7654, 32) (1914, 32) (7654,) (1914,)\n"
     ]
    }
   ],
   "source": [
    "from sklearn.model_selection import train_test_split\n",
    "\n",
    "# Splitting the dataset into the Training set and Test set\n",
    "X_train, X_test, y_train, y_test = train_test_split(X, Y, test_size = 0.2, random_state = 0)\n",
    "\n",
    "print(X_train.shape, X_test.shape, y_train.shape, y_test.shape)"
   ]
  },
  {
   "cell_type": "markdown",
   "metadata": {},
   "source": [
    "# Balancing the samples"
   ]
  },
  {
   "cell_type": "code",
   "execution_count": 6,
   "metadata": {},
   "outputs": [
    {
     "name": "stdout",
     "output_type": "stream",
     "text": [
      "Original dataset shape(Train):  Counter({0: 6106, 1: 1548})\n",
      "Resampled dataset shape(Train):  Counter({0: 6106, 1: 6106})\n",
      "\n",
      "Original dataset shape(Test):  Counter({0: 1571, 1: 343})\n",
      "Resampled dataset shape(Test):  Counter({1: 1571, 0: 1571})\n"
     ]
    }
   ],
   "source": [
    "from collections import Counter\n",
    "from imblearn.over_sampling import SMOTEN\n",
    "\n",
    "sm = SMOTEN()\n",
    "X_smot_train, Y_smot_train = sm.fit_resample(X_train, y_train)\n",
    "X_smot_test, Y_smot_test = sm.fit_resample(X_test, y_test)\n",
    "\n",
    "print('Original dataset shape(Train): ', Counter(y_train))\n",
    "print('Resampled dataset shape(Train): ', Counter(Y_smot_train))\n",
    "print('\\nOriginal dataset shape(Test): ', Counter(y_test))\n",
    "print('Resampled dataset shape(Test): ', Counter(Y_smot_test))"
   ]
  },
  {
   "cell_type": "markdown",
   "metadata": {},
   "source": [
    "# Random forest"
   ]
  },
  {
   "cell_type": "code",
   "execution_count": 9,
   "metadata": {},
   "outputs": [
    {
     "name": "stdout",
     "output_type": "stream",
     "text": [
      "Classification Report:\n",
      "               precision    recall  f1-score   support\n",
      "\n",
      "           0     0.8825    0.9612    0.9202      1571\n",
      "           1     0.9574    0.8721    0.9127      1571\n",
      "\n",
      "    accuracy                         0.9166      3142\n",
      "   macro avg     0.9199    0.9166    0.9164      3142\n",
      "weighted avg     0.9199    0.9166    0.9164      3142\n",
      "\n",
      "Accuracy: 0.9166\n",
      "Precision: 0.9199\n",
      "Recall: 0.9166\n",
      "F1-score: 0.9164\n"
     ]
    },
    {
     "data": {
      "image/png": "[encoded data removed]",
      "text/plain": [
       "<Figure size 600x500 with 2 Axes>"
      ]
     },
     "metadata": {},
     "output_type": "display_data"
    }
   ],
   "source": [
    "import matplotlib.pyplot as plt\n",
    "import seaborn as sns\n",
    "from sklearn.ensemble import RandomForestClassifier\n",
    "import joblib\n",
    "\n",
    "# Scoring functions\n",
    "from sklearn.metrics import accuracy_score, classification_report, confusion_matrix, precision_score, recall_score, f1_score\n",
    "\n",
    "# Initialization of the LR\n",
    "model = RandomForestClassifier()\n",
    "\n",
    "# Fit the model\n",
    "model = model.fit(X_smot_train, Y_smot_train)\n",
    "\n",
    "# make prediction\n",
    "y_pred = model.predict(X_smot_test)\n",
    "\n",
    "# save the model\n",
    "joblib.dump(model, 'D:/DATA/Desktop/bigData/final_project/work/models/radom_forest/rf_model.pkl')\n",
    "\n",
    "# calculate the evaluation metrics\n",
    "accuracy = accuracy_score(Y_smot_test, y_pred)\n",
    "precision = precision_score(Y_smot_test, y_pred, average='macro')  \n",
    "recall = recall_score(Y_smot_test, y_pred, average='macro')\n",
    "f1 = f1_score(Y_smot_test, y_pred, average='macro')  \n",
    "\n",
    "# print the evaluation metrics\n",
    "print(\"Classification Report:\\n\", classification_report(Y_smot_test, y_pred, digits=4))\n",
    "print(f\"Accuracy: {accuracy:.4f}\")\n",
    "print(f\"Precision: {precision:.4f}\")\n",
    "print(f\"Recall: {recall:.4f}\")\n",
    "print(f\"F1-score: {f1:.4f}\")\n",
    "\n",
    "# Confusion Matrix Heatmap\n",
    "plt.figure(figsize=(6,5))\n",
    "sns.heatmap(confusion_matrix(Y_smot_test, y_pred), annot=True, fmt=\"d\", cmap=\"Blues\", xticklabels=['Not Churned', 'Churned'], yticklabels=['Not Churned', 'Churned'])\n",
    "plt.xlabel(\"Predicted Label\")\n",
    "plt.ylabel(\"True Label\")\n",
    "plt.title(\"Confusion Matrix\")\n",
    "plt.show()"
   ]
  }
 ],
 "metadata": {
  "kernelspec": {
   "display_name": "base",
   "language": "python",
   "name": "python3"
  },
  "language_info": {
   "codemirror_mode": {
    "name": "ipython",
    "version": 3
   },
   "file_extension": ".py",
   "mimetype": "text/x-python",
   "name": "python",
   "nbconvert_exporter": "python",
   "pygments_lexer": "ipython3",
   "version": "3.11.5"
  }
 },
 "nbformat": 4,
 "nbformat_minor": 2
}
