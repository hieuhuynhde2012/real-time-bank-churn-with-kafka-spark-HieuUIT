{
 "cells": [
  {
   "cell_type": "code",
   "execution_count": 2,
   "id": "9f84f569-6f63-40b4-9272-2f495d0c7233",
   "metadata": {},
   "outputs": [
    {
     "name": "stdout",
     "output_type": "stream",
     "text": [
      "Sent: {'CustomerId': 87642433, 'CreditScore': 506, 'Geography': 0, 'Gender': 1, 'Age': 56, 'Tenure': 1, 'Balance': 230127.24, 'NumOfProducts': 2, 'HasCrCard': 0, 'IsActiveMember': 1, 'EstimatedSalary': 97064.48}\n",
      "Sent: {'CustomerId': 54338907, 'CreditScore': 520, 'Geography': 2, 'Gender': 1, 'Age': 68, 'Tenure': 10, 'Balance': 114778.31, 'NumOfProducts': 3, 'HasCrCard': 0, 'IsActiveMember': 0, 'EstimatedSalary': 190947.21}\n",
      "Sent: {'CustomerId': 69793780, 'CreditScore': 453, 'Geography': 2, 'Gender': 1, 'Age': 72, 'Tenure': 1, 'Balance': 81755.34, 'NumOfProducts': 1, 'HasCrCard': 0, 'IsActiveMember': 0, 'EstimatedSalary': 24166.73}\n",
      "Sent: {'CustomerId': 73998725, 'CreditScore': 793, 'Geography': 2, 'Gender': 0, 'Age': 60, 'Tenure': 10, 'Balance': 138294.08, 'NumOfProducts': 1, 'HasCrCard': 0, 'IsActiveMember': 0, 'EstimatedSalary': 47113.18}\n",
      "Sent: {'CustomerId': 14230203, 'CreditScore': 461, 'Geography': 2, 'Gender': 0, 'Age': 27, 'Tenure': 0, 'Balance': 135671.33, 'NumOfProducts': 3, 'HasCrCard': 0, 'IsActiveMember': 1, 'EstimatedSalary': 172711.22}\n",
      "Sent: {'CustomerId': 94989142, 'CreditScore': 512, 'Geography': 1, 'Gender': 1, 'Age': 38, 'Tenure': 3, 'Balance': 10308.18, 'NumOfProducts': 4, 'HasCrCard': 0, 'IsActiveMember': 1, 'EstimatedSalary': 190642.89}\n",
      "Sent: {'CustomerId': 22732632, 'CreditScore': 704, 'Geography': 2, 'Gender': 1, 'Age': 46, 'Tenure': 5, 'Balance': 188084.57, 'NumOfProducts': 4, 'HasCrCard': 1, 'IsActiveMember': 0, 'EstimatedSalary': 14091.79}\n",
      "Sent: {'CustomerId': 36645636, 'CreditScore': 837, 'Geography': 2, 'Gender': 1, 'Age': 67, 'Tenure': 3, 'Balance': 45793.88, 'NumOfProducts': 4, 'HasCrCard': 0, 'IsActiveMember': 0, 'EstimatedSalary': 84469.45}\n",
      "Sent: {'CustomerId': 92080401, 'CreditScore': 593, 'Geography': 0, 'Gender': 1, 'Age': 23, 'Tenure': 1, 'Balance': 245532.07, 'NumOfProducts': 4, 'HasCrCard': 0, 'IsActiveMember': 1, 'EstimatedSalary': 99986.45}\n",
      "Sent: {'CustomerId': 14060079, 'CreditScore': 624, 'Geography': 2, 'Gender': 0, 'Age': 77, 'Tenure': 2, 'Balance': 17941.81, 'NumOfProducts': 3, 'HasCrCard': 1, 'IsActiveMember': 0, 'EstimatedSalary': 42858.16}\n",
      "Sent: {'CustomerId': 27731010, 'CreditScore': 732, 'Geography': 2, 'Gender': 0, 'Age': 74, 'Tenure': 1, 'Balance': 82692.85, 'NumOfProducts': 1, 'HasCrCard': 0, 'IsActiveMember': 1, 'EstimatedSalary': 147065.45}\n"
     ]
    },
    {
     "ename": "KeyboardInterrupt",
     "evalue": "",
     "output_type": "error",
     "traceback": [
      "\u001b[1;31m---------------------------------------------------------------------------\u001b[0m",
      "\u001b[1;31mKeyboardInterrupt\u001b[0m                         Traceback (most recent call last)",
      "Cell \u001b[1;32mIn[2], line 34\u001b[0m\n\u001b[0;32m     32\u001b[0m producer\u001b[38;5;241m.\u001b[39msend(\u001b[38;5;124m'\u001b[39m\u001b[38;5;124mcustomer_transactions\u001b[39m\u001b[38;5;124m'\u001b[39m, value\u001b[38;5;241m=\u001b[39mtransaction)\n\u001b[0;32m     33\u001b[0m \u001b[38;5;28mprint\u001b[39m(\u001b[38;5;124mf\u001b[39m\u001b[38;5;124m\"\u001b[39m\u001b[38;5;124mSent: \u001b[39m\u001b[38;5;132;01m{\u001b[39;00mtransaction\u001b[38;5;132;01m}\u001b[39;00m\u001b[38;5;124m\"\u001b[39m)\n\u001b[1;32m---> 34\u001b[0m time\u001b[38;5;241m.\u001b[39msleep(\u001b[38;5;241m2\u001b[39m)\n",
      "\u001b[1;31mKeyboardInterrupt\u001b[0m: "
     ]
    }
   ],
   "source": [
    "import random\n",
    "import json\n",
    "import time\n",
    "from kafka import KafkaProducer\n",
    "\n",
    "producer = KafkaProducer(bootstrap_servers='localhost:9092',\n",
    "                         value_serializer=lambda v: json.dumps(v).encode('utf-8'))\n",
    "\n",
    "geography_mapping = {'France': 0, 'Spain': 1, 'Germany': 2}\n",
    "gender_mapping = {'Male': 0, 'Female': 1}\n",
    "\n",
    "def generate_random_transaction():\n",
    "    customer_id = random.randint(10000000, 99999999)  # Giả lập CustomerId\n",
    "    geography = random.choice(list(geography_mapping.keys()))\n",
    "    gender = random.choice(list(gender_mapping.keys()))\n",
    "    return {\n",
    "        \"CustomerId\": customer_id,  # Giữ lại CustomerId\n",
    "        \"CreditScore\": random.randint(350, 850),\n",
    "        \"Geography\": geography_mapping[geography],\n",
    "        \"Gender\": gender_mapping[gender],\n",
    "        \"Age\": random.randint(18, 80),\n",
    "        \"Tenure\": random.randint(0, 10),\n",
    "        \"Balance\": round(random.uniform(0, 250000), 2),\n",
    "        \"NumOfProducts\": random.randint(1, 4),\n",
    "        \"HasCrCard\": random.choice([0, 1]),\n",
    "        \"IsActiveMember\": random.choice([0, 1]),\n",
    "        \"EstimatedSalary\": round(random.uniform(10000, 200000), 2)\n",
    "    }\n",
    "\n",
    "while True:\n",
    "    transaction = generate_random_transaction()\n",
    "    producer.send('customer_transactions', value=transaction)\n",
    "    print(f\"Sent: {transaction}\")\n",
    "    time.sleep(2)\n"
   ]
  },
  {
   "cell_type": "code",
   "execution_count": null,
   "id": "6267f3cf-5046-4f75-aead-5281ca7f5d78",
   "metadata": {},
   "outputs": [],
   "source": []
  }
 ],
 "metadata": {
  "kernelspec": {
   "display_name": "Python 3 (ipykernel)",
   "language": "python",
   "name": "python3"
  },
  "language_info": {
   "codemirror_mode": {
    "name": "ipython",
    "version": 3
   },
   "file_extension": ".py",
   "mimetype": "text/x-python",
   "name": "python",
   "nbconvert_exporter": "python",
   "pygments_lexer": "ipython3",
   "version": "3.11.7"
  }
 },
 "nbformat": 4,
 "nbformat_minor": 5
}
