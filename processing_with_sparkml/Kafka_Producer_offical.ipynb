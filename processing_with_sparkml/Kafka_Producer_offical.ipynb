{
 "cells": [
  {
   "cell_type": "code",
   "execution_count": 1,
   "metadata": {},
   "outputs": [
    {
     "name": "stdout",
     "output_type": "stream",
     "text": [
      "Sent: {'CustomerId': 15814022, 'Surname': 'Lassetter', 'CreditScore': 714, 'Age': 26, 'Tenure': 9, 'Balance': 89928.99, 'NumOfProducts': 1, 'HasCrCard': 1, 'IsActiveMember': 0, 'EstimatedSalary': 46203.31, 'BalanceSalary': 1.946375487, 'TenureAge': 0.346153846, 'ScoreAge': 27.46153846, 'tenure_age': 1.0, 'tenure_salary': 0.000194791, 'score_age': 79.33333333, 'score_salary': 0.015453438, 'newAge': 17, 'newCreditScore': 8, 'AgeScore': 1, 'BalanceScore': 5, 'SalaryScore': 3, 'newEstimatedSalary': 3850.275833, 'score_balance': 125.9509664, 'age_balance': 3458.807308, 'balance_salary': 1.946375487, 'age_hascrcard': 0.038461538, 'product_utilization_rate_by_year': 0.111111111, 'product_utilization_rate_by_salary': 2.16e-05, 'countries_monthly_average_salaries': 1.041741297, 'Germany': False, 'Spain': False, 'Female': True, 'Male': False}\n",
      "Sent: {'CustomerId': 15705860, 'Surname': 'McKenzie', 'CreditScore': 631, 'Age': 40, 'Tenure': 3, 'Balance': 107949.45, 'NumOfProducts': 1, 'HasCrCard': 1, 'IsActiveMember': 0, 'EstimatedSalary': 52449.62, 'BalanceSalary': 2.058155045, 'TenureAge': 0.075, 'ScoreAge': 15.775, 'tenure_age': 0.130434783, 'tenure_salary': 5.72e-05, 'score_age': 27.43478261, 'score_salary': 0.012030592, 'newAge': 37, 'newCreditScore': 5, 'AgeScore': 5, 'BalanceScore': 6, 'SalaryScore': 3, 'newEstimatedSalary': 4370.801667, 'score_balance': 171.0767829, 'age_balance': 2698.73625, 'balance_salary': 2.058155045, 'age_hascrcard': 0.025, 'product_utilization_rate_by_year': 0.333333333, 'product_utilization_rate_by_salary': 1.91e-05, 'countries_monthly_average_salaries': 0.922110056, 'Germany': True, 'Spain': False, 'Female': False, 'Male': True}\n",
      "Sent: {'CustomerId': 15780498, 'Surname': 'Maynard', 'CreditScore': 634, 'Age': 34, 'Tenure': 3, 'Balance': 145030.92, 'NumOfProducts': 1, 'HasCrCard': 1, 'IsActiveMember': 1, 'EstimatedSalary': 41820.65, 'BalanceSalary': 3.467926013, 'TenureAge': 0.088235294, 'ScoreAge': 18.64705882, 'tenure_age': 0.176470588, 'tenure_salary': 7.17e-05, 'score_age': 37.29411765, 'score_salary': 0.015159975, 'newAge': 31, 'newCreditScore': 5, 'AgeScore': 3, 'BalanceScore': 9, 'SalaryScore': 3, 'newEstimatedSalary': 3485.054167, 'score_balance': 228.7553943, 'age_balance': 4265.615294, 'balance_salary': 3.467926013, 'age_hascrcard': 0.029411765, 'product_utilization_rate_by_year': 0.333333333, 'product_utilization_rate_by_salary': 2.39e-05, 'countries_monthly_average_salaries': 0.942925911, 'Germany': False, 'Spain': False, 'Female': False, 'Male': True}\n",
      "Sent: {'CustomerId': 15675963, 'Surname': 'Padovano', 'CreditScore': 627, 'Age': 57, 'Tenure': 9, 'Balance': 0.0, 'NumOfProducts': 2, 'HasCrCard': 1, 'IsActiveMember': 1, 'EstimatedSalary': 107712.42, 'BalanceSalary': 0.0, 'TenureAge': 0.157894737, 'ScoreAge': 11.0, 'tenure_age': 0.225, 'tenure_salary': 8.36e-05, 'score_age': 15.675, 'score_salary': 0.005821056, 'newAge': 48, 'newCreditScore': 4, 'AgeScore': 8, 'BalanceScore': 3, 'SalaryScore': 6, 'newEstimatedSalary': 8976.035, 'score_balance': 0.0, 'age_balance': 0.0, 'balance_salary': 0.0, 'age_hascrcard': 0.01754386, 'product_utilization_rate_by_year': 0.222222222, 'product_utilization_rate_by_salary': 1.86e-05, 'countries_monthly_average_salaries': 2.428580898, 'Germany': False, 'Spain': False, 'Female': True, 'Male': False}\n",
      "Sent: {'CustomerId': 15707042, 'Surname': 'Dellucci', 'CreditScore': 634, 'Age': 24, 'Tenure': 2, 'Balance': 87413.19, 'NumOfProducts': 1, 'HasCrCard': 1, 'IsActiveMember': 0, 'EstimatedSalary': 63340.65, 'BalanceSalary': 1.380048831, 'TenureAge': 0.083333333, 'ScoreAge': 26.41666667, 'tenure_age': 0.285714286, 'tenure_salary': 3.16e-05, 'score_age': 90.57142857, 'score_salary': 0.01000937, 'newAge': 22, 'newCreditScore': 5, 'AgeScore': 1, 'BalanceScore': 5, 'SalaryScore': 4, 'newEstimatedSalary': 5278.3875, 'score_balance': 137.875694, 'age_balance': 3642.21625, 'balance_salary': 1.380048831, 'age_hascrcard': 0.041666667, 'product_utilization_rate_by_year': 0.5, 'product_utilization_rate_by_salary': 1.58e-05, 'countries_monthly_average_salaries': 1.428135146, 'Germany': False, 'Spain': False, 'Female': True, 'Male': False}\n",
      "\n",
      "Dừng gửi dữ liệu Kafka.\n"
     ]
    }
   ],
   "source": [
    "import json\n",
    "import time\n",
    "import pandas as pd\n",
    "from kafka import KafkaProducer\n",
    "\n",
    "# Cấu hình Kafka Producer\n",
    "producer = KafkaProducer(\n",
    "    bootstrap_servers='localhost:9092',\n",
    "    value_serializer=lambda v: json.dumps(v).encode('utf-8')\n",
    ")\n",
    "\n",
    "file_path = 'C:/Users/PC/Desktop/Do_an_Big_data/PythonCodes/work/data/test_data/test.csv'\n",
    "data = pd.read_csv(file_path)\n",
    "\n",
    "try:\n",
    "    while True:\n",
    "        row = data.sample(n=1).iloc[0]  # Chọn ngẫu nhiên một dòng\n",
    "\n",
    "        # Chuyển đổi dữ liệu nhưng giữ nguyên kiểu int, float, bool\n",
    "        transaction = {\n",
    "            col: (None if pd.isna(row[col]) else\n",
    "                  bool(row[col]) if data[col].dtype == 'bool' else\n",
    "                  int(row[col]) if data[col].dtype == 'int64' else\n",
    "                  float(row[col]) if data[col].dtype == 'float64' else\n",
    "                  str(row[col]))\n",
    "            for col in data.columns\n",
    "        }\n",
    "\n",
    "        # Kiểm tra kiểu dữ liệu trước khi gửi\n",
    "        # print(\"\\n--- Kiểm tra kiểu dữ liệu trước khi gửi ---\")\n",
    "        # for key, val in transaction.items():\n",
    "        #     print(f\"{key}: {val} ({type(val).__name__})\")\n",
    "\n",
    "        # Gửi dữ liệu đến Kafka\n",
    "        try:\n",
    "            producer.send('producerrf_sparkml', value=transaction)\n",
    "            print(f\"Sent: {transaction}\")\n",
    "        except Exception as e:\n",
    "            print(f\"Lỗi khi gửi dữ liệu: {e}\")\n",
    "\n",
    "        time.sleep(2)  # Giả lập gửi dữ liệu theo thời gian thực\n",
    "\n",
    "except KeyboardInterrupt:\n",
    "    print(\"\\nDừng gửi dữ liệu Kafka.\")\n",
    "finally:\n",
    "    producer.close()\n"
   ]
  },
  {
   "cell_type": "code",
   "execution_count": null,
   "metadata": {},
   "outputs": [
    {
     "data": {
      "text/plain": [
       "RowNumber                               int64\n",
       "CustomerId                              int64\n",
       "Surname                                object\n",
       "CreditScore                             int64\n",
       "Age                                     int64\n",
       "Tenure                                  int64\n",
       "Balance                               float64\n",
       "NumOfProducts                           int64\n",
       "HasCrCard                               int64\n",
       "IsActiveMember                          int64\n",
       "EstimatedSalary                       float64\n",
       "Exited                                  int64\n",
       "BalanceSalary                         float64\n",
       "TenureAge                             float64\n",
       "ScoreAge                              float64\n",
       "tenure_age                            float64\n",
       "tenure_salary                         float64\n",
       "score_age                             float64\n",
       "score_salary                          float64\n",
       "newAge                                  int64\n",
       "newCreditScore                          int64\n",
       "AgeScore                                int64\n",
       "BalanceScore                            int64\n",
       "SalaryScore                             int64\n",
       "newEstimatedSalary                    float64\n",
       "score_balance                         float64\n",
       "age_balance                           float64\n",
       "balance_salary                        float64\n",
       "age_hascrcard                         float64\n",
       "product_utilization_rate_by_year      float64\n",
       "product_utilization_rate_by_salary    float64\n",
       "countries_monthly_average_salaries    float64\n",
       "Germany                                  bool\n",
       "Spain                                    bool\n",
       "Female                                   bool\n",
       "Male                                     bool\n",
       "dtype: object"
      ]
     },
     "execution_count": 8,
     "metadata": {},
     "output_type": "execute_result"
    }
   ],
   "source": [
    "# data.dtypes"
   ]
  }
 ],
 "metadata": {
  "kernelspec": {
   "display_name": "henv",
   "language": "python",
   "name": "python3"
  },
  "language_info": {
   "codemirror_mode": {
    "name": "ipython",
    "version": 3
   },
   "file_extension": ".py",
   "mimetype": "text/x-python",
   "name": "python",
   "nbconvert_exporter": "python",
   "pygments_lexer": "ipython3",
   "version": "3.8.0"
  }
 },
 "nbformat": 4,
 "nbformat_minor": 2
}
